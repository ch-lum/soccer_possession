{
 "cells": [
  {
   "cell_type": "code",
   "execution_count": null,
   "metadata": {},
   "outputs": [],
   "source": [
    "import nhl_scrape as nhl\n",
    "import soccer_scraper as ss"
   ]
  },
  {
   "cell_type": "code",
   "execution_count": null,
   "metadata": {},
   "outputs": [],
   "source": [
    "nhl_scraper = nhl.NHLScrape(\"nhl_train.csv\")"
   ]
  },
  {
   "cell_type": "code",
   "execution_count": null,
   "metadata": {},
   "outputs": [],
   "source": [
    "nhl_scraper.main(range(2014, 2024))"
   ]
  },
  {
   "cell_type": "code",
   "execution_count": null,
   "metadata": {},
   "outputs": [],
   "source": [
    "laliga = ss.FBScrape(fp=\"la_liga.csv\", league=\"La Liga\")\n",
    "bundesliga = ss.FBScrape(fp=\"bundesliga.csv\", league=\"Bundesliga\")\n",
    "seriea = ss.FBScrape(fp=\"serie_a.csv\", league=\"Serie A\")\n",
    "ligue1 = ss.FBScrape(fp=\"ligue_1.csv\", league=\"Ligue 1\")\n",
    "championship = ss.FBScrape(fp=\"championship.csv\", league=\"Championship\")\n",
    "mls = ss.FBScrape(fp=\"mls.csv\", league=\"MLS\")\n",
    "eredivise = ss.FBScrape(fp=\"eredivise.csv\", league=\"Eredivise\")\n",
    "brasileiro = ss.FBScrape(fp=\"brasileiro.csv\", league=\"Brasileiro\")\n",
    "primeira = ss.FBScrape(fp=\"premeira.csv\", league=\"Premeira\")\n",
    "ligamx = ss.FBScrape(fp=\"liga_mx.csv\", league=\"Liga MX\")\n",
    "segunda = ss.FBScrape(fp=\"segunda.csv\", league=\"Segunda\")\n",
    "belgium = ss.FBScrape(fp=\"belgium.csv\", league=\"Belgian Pro League\")\n",
    "bundesliga2 = ss.FBScrape(fp=\"bundesliga2.csv\", league=\"2 Bundesliga\")\n",
    "ligue2 = ss.FBScrape(fp=\"bundesliga2.csv\", league=\"Ligue 2\")\n",
    "argentina = ss.FBScrape(fp=\"argentina.csv\", league=\"Argentina\")\n",
    "serieb = ss.FBScrape(fp=\"serie_b.csv\", league=\"Serie B\")\n",
    "wsl = ss.FBScrape(fp=\"wsl.csv\", league=\"WSL\")\n",
    "ligaf = ss.FBScrape(fp=\"liga_f.csv\", league=\"Liga F\")\n",
    "aleague = ss.FBScrape(fp=\"a_league.csv\", league=\"A League\")\n",
    "premiere = ss.FBScrape(fp=\"premiere_ligue.csv\", league=\"Premiere Ligue\")\n",
    "fbundesliga = ss.FBScrape(fp=\"f_bundesliga.csv\", league=\"Frauen Bundesliga\")"
   ]
  },
  {
   "cell_type": "code",
   "execution_count": null,
   "metadata": {},
   "outputs": [],
   "source": [
    "# laliga.main(years=range(2014, 2023))\n",
    "# bundesliga.main(years=range(2014, 2023))\n",
    "# seriea.main(years=range(2014, 2023), reset=True)\n",
    "# championship.main(years=range(2016, 2023))\n",
    "# ligue1.main(years=range(2014, 2023))\n",
    "# mls.main(years=range(2016, 2023))\n",
    "# eredivise.main(years=range(2016, 2023))\n",
    "brasileiro.main(years=range(2015, 2024))\n",
    "primeira.main(years=range(2017, 2023), reset=True)\n",
    "ligamx.main(years=range(2016, 2023), reset=True)\n",
    "segunda.main(years=range(2016, 2023), reset=True)\n",
    "belgium.main(years=range(2017, 2023), reset=True)\n",
    "bundesliga2.main(years=range(2017, 2023), reset=True)\n",
    "ligue2.main(years=range(2017, 2023), reset=True)\n",
    "argentina.main(years=range(2021, 2023), reset=True)\n",
    "serieb.main(years=range(2018, 2023), reset=True)\n",
    "wsl.main(years=range(2018, 2023), reset=True)\n",
    "ligaf.main(years=range(2022, 2024), reset=True)\n",
    "aleague.main(years=range(2018, 2024), reset=True)\n",
    "premiere.main(years=range(2017, 2024), reset=True)\n",
    "fbundesliga.main(years=range(2022, 2024), reset=True)"
   ]
  },
  {
   "cell_type": "code",
   "execution_count": null,
   "metadata": {},
   "outputs": [],
   "source": []
  },
  {
   "cell_type": "code",
   "execution_count": null,
   "metadata": {},
   "outputs": [],
   "source": []
  }
 ],
 "metadata": {
  "kernelspec": {
   "display_name": "defenv",
   "language": "python",
   "name": "python3"
  },
  "language_info": {
   "codemirror_mode": {
    "name": "ipython",
    "version": 3
   },
   "file_extension": ".py",
   "mimetype": "text/x-python",
   "name": "python",
   "nbconvert_exporter": "python",
   "pygments_lexer": "ipython3",
   "version": "3.10.13"
  }
 },
 "nbformat": 4,
 "nbformat_minor": 2
}
